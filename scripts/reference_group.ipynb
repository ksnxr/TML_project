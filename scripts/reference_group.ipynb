{
 "cells": [
  {
   "cell_type": "code",
   "execution_count": 1,
   "id": "6efc7c8c",
   "metadata": {},
   "outputs": [],
   "source": [
    "import numpy as np\n",
    "import pandas as pd\n",
    "\n",
    "df = pd.read_csv('../data/orig.csv', index_col=0)"
   ]
  },
  {
   "cell_type": "code",
   "execution_count": 2,
   "id": "ad359037",
   "metadata": {},
   "outputs": [
    {
     "data": {
      "text/plain": [
       "Target\n",
       "0    300\n",
       "1    700\n",
       "Name: Target, dtype: int64"
      ]
     },
     "execution_count": 2,
     "metadata": {},
     "output_type": "execute_result"
    }
   ],
   "source": [
    "df.groupby('Target')['Target'].count()"
   ]
  },
  {
   "cell_type": "code",
   "execution_count": 3,
   "id": "e3373d55",
   "metadata": {},
   "outputs": [
    {
     "name": "stderr",
     "output_type": "stream",
     "text": [
      "/var/folders/mw/pmhf105x5r92brf3g02f3z_w0000gn/T/ipykernel_24398/2361343233.py:1: FutureWarning: The default value of numeric_only in DataFrameGroupBy.mean is deprecated. In a future version, numeric_only will default to False. Either specify numeric_only or select only columns which should be valid for the function.\n",
      "  df.groupby('Sex').mean()['Target']\n"
     ]
    },
    {
     "data": {
      "text/plain": [
       "Sex\n",
       "female divorced/separated/married    0.648387\n",
       "male divorced/separated              0.600000\n",
       "male married/widowed                 0.728261\n",
       "male single                          0.733577\n",
       "Name: Target, dtype: float64"
      ]
     },
     "execution_count": 3,
     "metadata": {},
     "output_type": "execute_result"
    }
   ],
   "source": [
    "df.groupby('Sex').mean()['Target']"
   ]
  },
  {
   "cell_type": "code",
   "execution_count": 4,
   "id": "5ead7278",
   "metadata": {},
   "outputs": [
    {
     "name": "stderr",
     "output_type": "stream",
     "text": [
      "/var/folders/mw/pmhf105x5r92brf3g02f3z_w0000gn/T/ipykernel_24398/3483361357.py:1: FutureWarning: The default value of numeric_only in DataFrameGroupBy.mean is deprecated. In a future version, numeric_only will default to False. Either specify numeric_only or select only columns which should be valid for the function.\n",
      "  df.groupby('Age').mean()['Target']\n"
     ]
    },
    {
     "data": {
      "text/plain": [
       "Age\n",
       "Middle1    0.695473\n",
       "Middle2    0.753846\n",
       "Older      0.735409\n",
       "Younger    0.608333\n",
       "Name: Target, dtype: float64"
      ]
     },
     "execution_count": 4,
     "metadata": {},
     "output_type": "execute_result"
    }
   ],
   "source": [
    "df.groupby('Age').mean()['Target']"
   ]
  },
  {
   "cell_type": "code",
   "execution_count": 5,
   "id": "fde1bf09",
   "metadata": {},
   "outputs": [
    {
     "name": "stderr",
     "output_type": "stream",
     "text": [
      "/var/folders/mw/pmhf105x5r92brf3g02f3z_w0000gn/T/ipykernel_24398/1957048988.py:1: FutureWarning: The default value of numeric_only in DataFrameGroupBy.mean is deprecated. In a future version, numeric_only will default to False. Either specify numeric_only or select only columns which should be valid for the function.\n",
      "  df.groupby('Foreign').mean()['Target']\n"
     ]
    },
    {
     "data": {
      "text/plain": [
       "Foreign\n",
       "no     0.891892\n",
       "yes    0.692627\n",
       "Name: Target, dtype: float64"
      ]
     },
     "execution_count": 5,
     "metadata": {},
     "output_type": "execute_result"
    }
   ],
   "source": [
    "df.groupby('Foreign').mean()['Target']"
   ]
  },
  {
   "cell_type": "markdown",
   "id": "075cb7df",
   "metadata": {},
   "source": [
    "To summarize, \"male married/widowed\" and \"male single\" receive credits more often, \"Middle2\" and \"Older\" receive credits more often and \"Foregin=no\" more often. By taking into account \"Old men run the world\" meme, we chose the reference group as \"male married/widowed\", \"Older\" and \"Foreign=no\"."
   ]
  }
 ],
 "metadata": {
  "kernelspec": {
   "display_name": "Python 3 (ipykernel)",
   "language": "python",
   "name": "python3"
  },
  "language_info": {
   "codemirror_mode": {
    "name": "ipython",
    "version": 3
   },
   "file_extension": ".py",
   "mimetype": "text/x-python",
   "name": "python",
   "nbconvert_exporter": "python",
   "pygments_lexer": "ipython3",
   "version": "3.9.13"
  }
 },
 "nbformat": 4,
 "nbformat_minor": 5
}
